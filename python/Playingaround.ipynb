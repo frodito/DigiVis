{
 "cells": [
  {
   "cell_type": "code",
   "execution_count": 7,
   "metadata": {
    "scrolled": false
   },
   "outputs": [
    {
     "data": {
      "text/html": [
       "        <script type=\"text/javascript\">\n",
       "        window.PlotlyConfig = {MathJaxConfig: 'local'};\n",
       "        if (window.MathJax) {MathJax.Hub.Config({SVG: {font: \"STIX-Web\"}});}\n",
       "        if (typeof require !== 'undefined') {\n",
       "        require.undef(\"plotly\");\n",
       "        requirejs.config({\n",
       "            paths: {\n",
       "                'plotly': ['https://cdn.plot.ly/plotly-latest.min']\n",
       "            }\n",
       "        });\n",
       "        require(['plotly'], function(Plotly) {\n",
       "            window._Plotly = Plotly;\n",
       "        });\n",
       "        }\n",
       "        </script>\n",
       "        "
      ]
     },
     "metadata": {},
     "output_type": "display_data"
    },
    {
     "data": {
      "application/vnd.plotly.v1+json": {
       "config": {
        "linkText": "Export to plot.ly",
        "plotlyServerURL": "https://plot.ly",
        "showLink": false
       },
       "data": [
        {
         "arrangement": "snap",
         "link": {
          "color": [
           "blue",
           "red",
           "green",
           "blue",
           "red",
           "green"
          ],
          "source": [
           0,
           1,
           2,
           0,
           1,
           2
          ],
          "target": [
           3,
           4,
           5,
           5,
           3,
           4
          ],
          "value": [
           8,
           4,
           2,
           8,
           4,
           2
          ]
         },
         "node": {
          "color": [
           "blue",
           "red",
           "green",
           "black",
           "black",
           "black"
          ],
          "label": [
           "thema1",
           "thema2",
           "thema3",
           "1960",
           "1970",
           "1980"
          ],
          "line": {
           "color": "black",
           "width": 0.5
          },
          "pad": 15,
          "thickness": 20
         },
         "orientation": "v",
         "type": "sankey"
        }
       ],
       "layout": {
        "font": {
         "size": 10
        },
        "title": "Basic Sankey Diagram"
       }
      },
      "text/html": [
       "<div>\n",
       "        \n",
       "        \n",
       "            <div id=\"a7932876-f5f1-48bc-909c-948a156251cb\" class=\"plotly-graph-div\" style=\"height:525px; width:100%;\"></div>\n",
       "            <script type=\"text/javascript\">\n",
       "                require([\"plotly\"], function(Plotly) {\n",
       "                    window.PLOTLYENV=window.PLOTLYENV || {};\n",
       "                    window.PLOTLYENV.BASE_URL='https://plot.ly';\n",
       "                    \n",
       "                if (document.getElementById(\"a7932876-f5f1-48bc-909c-948a156251cb\")) {\n",
       "                    Plotly.newPlot(\n",
       "                        'a7932876-f5f1-48bc-909c-948a156251cb',\n",
       "                        [{\"arrangement\": \"snap\", \"link\": {\"color\": [\"blue\", \"red\", \"green\", \"blue\", \"red\", \"green\"], \"source\": [0, 1, 2, 0, 1, 2], \"target\": [3, 4, 5, 5, 3, 4], \"value\": [8, 4, 2, 8, 4, 2]}, \"node\": {\"color\": [\"blue\", \"red\", \"green\", \"black\", \"black\", \"black\"], \"label\": [\"thema1\", \"thema2\", \"thema3\", \"1960\", \"1970\", \"1980\"], \"line\": {\"color\": \"black\", \"width\": 0.5}, \"pad\": 15, \"thickness\": 20}, \"orientation\": \"v\", \"type\": \"sankey\"}],\n",
       "                        {\"font\": {\"size\": 10}, \"title\": \"Basic Sankey Diagram\"},\n",
       "                        {\"plotlyServerURL\": \"https://plot.ly\", \"linkText\": \"Export to plot.ly\", \"showLink\": false, \"responsive\": true}\n",
       "                    ).then(function(){\n",
       "                            \n",
       "var gd = document.getElementById('a7932876-f5f1-48bc-909c-948a156251cb');\n",
       "var x = new MutationObserver(function (mutations, observer) {{\n",
       "        var display = window.getComputedStyle(gd).display;\n",
       "        if (!display || display === 'none') {{\n",
       "            console.log([gd, 'removed!']);\n",
       "            Plotly.purge(gd);\n",
       "            observer.disconnect();\n",
       "        }}\n",
       "}});\n",
       "\n",
       "// Listen for the removal of the full notebook cells\n",
       "var notebookContainer = gd.closest('#notebook-container');\n",
       "if (notebookContainer) {{\n",
       "    x.observe(notebookContainer, {childList: true});\n",
       "}}\n",
       "\n",
       "// Listen for the clearing of the current output cell\n",
       "var outputEl = gd.closest('.output');\n",
       "if (outputEl) {{\n",
       "    x.observe(outputEl, {childList: true});\n",
       "}}\n",
       "\n",
       "                        })\n",
       "                };\n",
       "                });\n",
       "            </script>\n",
       "        </div>"
      ]
     },
     "metadata": {},
     "output_type": "display_data"
    }
   ],
   "source": [
    "import plotly.plotly as py\n",
    "import plotly\n",
    "from plotly.offline import download_plotlyjs, init_notebook_mode, plot, iplot\n",
    "\n",
    "init_notebook_mode(connected=True)\n",
    "\n",
    "plotly.tools.set_credentials_file(username='manfred.moosleitner', api_key='UTpisrO4OEiCWBWqjrVP')\n",
    "\n",
    "data = dict(\n",
    "    type='sankey',\n",
    "    orientation = \"v\",\n",
    "    arrangement = \"snap\",\n",
    "    node=dict(\n",
    "        pad=15,\n",
    "        thickness=20,\n",
    "        line=dict(\n",
    "            color=\"black\",\n",
    "            width=0.5\n",
    "        ),\n",
    "        label=[\"thema1\", \"thema2\", \"thema3\", \"1960\", \"1970\", \"1980\"],\n",
    "        color=[\"blue\", \"red\", \"green\", \"black\", \"black\", \"black\"]\n",
    "    ),\n",
    "    link=dict(\n",
    "        source=[0, 1, 2, 0, 1, 2],\n",
    "        target=[3, 4, 5, 5, 3, 4],\n",
    "#          value=[1, 1, 1, 1, 1, 1],\n",
    "         value=[8, 4, 2, 8, 4, 2],\n",
    "        color=[\"blue\",\"red\", \"green\",\"blue\",\"red\", \"green\"]\n",
    "    ))\n",
    "\n",
    "layout = dict(\n",
    "    title=\"Basic Sankey Diagram\",\n",
    "    font=dict(\n",
    "        size=10\n",
    "    )\n",
    ")\n",
    "\n",
    "fig = dict(data=[data], layout=layout)\n",
    "iplot(fig, validate=False)"
   ]
  },
  {
   "cell_type": "code",
   "execution_count": 13,
   "metadata": {},
   "outputs": [
    {
     "name": "stdout",
     "output_type": "stream",
     "text": [
      "1984 24\n",
      "1985 25\n",
      "1986 26\n",
      "1987 27\n",
      "1988 28\n",
      "1989 29\n",
      "1990 30\n",
      "1991 31\n",
      "1992 32\n",
      "1993 33\n",
      "1994 34\n",
      "1995 35\n",
      "1996 36\n",
      "1997 37\n",
      "1998 38\n",
      "1999 39\n",
      "2000 40\n",
      "1960 0\n",
      "1961 1\n",
      "1962 2\n",
      "1963 3\n",
      "1964 4\n",
      "1965 5\n",
      "1966 6\n",
      "1967 7\n",
      "1968 8\n",
      "1969 9\n",
      "1970 10\n",
      "1971 11\n",
      "1972 12\n",
      "1973 13\n",
      "1974 14\n",
      "1975 15\n",
      "1976 16\n",
      "1977 17\n",
      "1978 18\n",
      "1979 19\n",
      "1980 20\n",
      "1981 21\n",
      "1982 22\n",
      "1983 23\n"
     ]
    }
   ],
   "source": [
    "jahre = {}\n",
    "for i, jahr in enumerate(range(1960, 2001)):\n",
    "    jahre[jahr] = i\n",
    "\n",
    "for k in jahre:\n",
    "    print(k, jahre[k])"
   ]
  },
  {
   "cell_type": "code",
   "execution_count": null,
   "metadata": {},
   "outputs": [],
   "source": []
  }
 ],
 "metadata": {
  "kernelspec": {
   "display_name": "Python 3",
   "language": "python",
   "name": "python3"
  },
  "language_info": {
   "codemirror_mode": {
    "name": "ipython",
    "version": 3
   },
   "file_extension": ".py",
   "mimetype": "text/x-python",
   "name": "python",
   "nbconvert_exporter": "python",
   "pygments_lexer": "ipython3",
   "version": "3.5.3"
  }
 },
 "nbformat": 4,
 "nbformat_minor": 2
}
